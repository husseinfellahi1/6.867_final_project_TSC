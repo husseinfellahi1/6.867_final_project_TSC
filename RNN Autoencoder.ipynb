{
 "cells": [
  {
   "cell_type": "code",
   "execution_count": 1,
   "id": "37381ff5",
   "metadata": {},
   "outputs": [],
   "source": [
    "import numpy as np\n",
    "import pandas as pd\n",
    "import matplotlib.pyplot as plt\n",
    "from numpy import array\n",
    "from keras.models import Sequential\n",
    "from keras.models import Model\n",
    "from keras.layers import LSTM, GRU\n",
    "from keras.layers import Dense\n",
    "from keras.layers import RepeatVector\n",
    "from keras.layers import TimeDistributed\n",
    "import warnings\n",
    "from sklearn.metrics.pairwise import euclidean_distances\n",
    "warnings.filterwarnings(\"ignore\")\n",
    "from sklearn.neighbors import KNeighborsClassifier"
   ]
  },
  {
   "cell_type": "code",
   "execution_count": 17,
   "id": "00601f86",
   "metadata": {},
   "outputs": [],
   "source": [
    "UNIVARIATE_DATASET_NAMES_2018 = ['Adiac','Beef',  'CBF', 'ChlorineConcentration','CinCECGTorso', 'Coffee', 'DiatomSizeReduction']"
   ]
  },
  {
   "cell_type": "code",
   "execution_count": 19,
   "id": "067c0108",
   "metadata": {},
   "outputs": [],
   "source": [
    "def get_encoded_distances(name):\n",
    "    df = pd.read_csv('UCRArchive_2018/' + name + '/' + name + '_TEST.tsv', header = None, sep = '\\t', error_bad_lines=False)\n",
    "    df['Y'] = df[0]\n",
    "    df1 = df.drop(0, axis =1)\n",
    "    X = df1.drop('Y', axis = 1).values.reshape((len(df1), len(df1.columns) - 1, 1))\n",
    "    n_in = len(X[0])\n",
    "\n",
    "    model = Sequential()\n",
    "    model.add(GRU(n_in, activation='relu', input_shape=(n_in,1), return_sequences=True))\n",
    "    model.add(GRU(200, activation='relu', return_sequences=True))\n",
    "    model.add(GRU(100, activation='relu', return_sequences=False))\n",
    "    model.add(RepeatVector(n_in))\n",
    "    model.add(GRU(100, activation='relu', return_sequences=True))\n",
    "    model.add(GRU(200, activation='relu', return_sequences=True))\n",
    "    model.add(GRU(n_in, activation='relu', return_sequences=True))\n",
    "    model.add(TimeDistributed(Dense(1)))\n",
    "    model.compile(optimizer = 'adam', loss='mse')\n",
    "\n",
    "    model.fit(X, X, epochs=1000, batch_size=80, verbose=2)\n",
    "    # demonstrate reconstruction\n",
    "    yhat = model.predict(X, verbose=0)\n",
    "    print(name)\n",
    "    print('---Predicted---')\n",
    "    print(np.round(yhat,3))\n",
    "    print('---Actual---')\n",
    "    print(np.round(X, 3))\n",
    "\n",
    "    model1 = Model(inputs=model.inputs, outputs=model.layers[2].output)\n",
    "\n",
    "    pred = model1.predict(X)\n",
    "    \n",
    "    return euclidean_distances(pred)"
   ]
  },
  {
   "cell_type": "code",
   "execution_count": 85,
   "id": "019ef8e1",
   "metadata": {},
   "outputs": [],
   "source": [
    "def get_trained_autoencoder(X, ep = 300):\n",
    "    n_in = len(X[0])\n",
    "\n",
    "    model = Sequential()\n",
    "    model.add(GRU(n_in, activation='relu', input_shape=(n_in,1), return_sequences=True))\n",
    "    model.add(GRU(200, activation='relu', return_sequences=True))\n",
    "    model.add(GRU(100, activation='relu', return_sequences=False))\n",
    "    model.add(RepeatVector(n_in))\n",
    "    model.add(GRU(100, activation='relu', return_sequences=True))\n",
    "    model.add(GRU(200, activation='relu', return_sequences=True))\n",
    "    model.add(GRU(n_in, activation='relu', return_sequences=True))\n",
    "    model.add(TimeDistributed(Dense(1)))\n",
    "    model.compile(optimizer = 'adam', loss='mse')\n",
    "\n",
    "    model.fit(X, X, epochs = ep, batch_size=80, verbose=0)\n",
    "    return model"
   ]
  },
  {
   "cell_type": "code",
   "execution_count": 63,
   "id": "e9d4b2e5",
   "metadata": {},
   "outputs": [],
   "source": [
    "def reformat_data_train(name):\n",
    "    df = pd.read_csv('UCRArchive_2018/' + name + '/' + name + '_TRAIN.tsv', header = None, sep = '\\t', error_bad_lines=False)\n",
    "    df['Y'] = df[0]\n",
    "    df1 = df.drop(0, axis =1)\n",
    "    X = df1.drop('Y', axis = 1).values.reshape((len(df1), len(df1.columns) - 1, 1))\n",
    "    return X, df1.Y"
   ]
  },
  {
   "cell_type": "code",
   "execution_count": 64,
   "id": "ee76cb40",
   "metadata": {},
   "outputs": [],
   "source": [
    "def reformat_data_test(name):\n",
    "    df = pd.read_csv('UCRArchive_2018/' + name + '/' + name + '_TEST.tsv', header = None, sep = '\\t', error_bad_lines=False)\n",
    "    df['Y'] = df[0]\n",
    "    df1 = df.drop(0, axis =1)\n",
    "    X = df1.drop('Y', axis = 1).values.reshape((len(df1), len(df1.columns) - 1, 1))\n",
    "    return X, df1.Y"
   ]
  },
  {
   "cell_type": "code",
   "execution_count": 88,
   "id": "a2625d00",
   "metadata": {},
   "outputs": [
    {
     "name": "stdout",
     "output_type": "stream",
     "text": [
      "Adiac\n",
      "Score on training set 1.0\n",
      "Score on testing set 0.26854219948849106\n",
      "Beef\n",
      "Score on training set 1.0\n",
      "Score on testing set 0.36666666666666664\n",
      "CBF\n",
      "Score on training set 1.0\n",
      "Score on testing set 0.9011111111111111\n",
      "ChlorineConcentration\n",
      "Score on training set 1.0\n",
      "Score on testing set 0.42552083333333335\n",
      "CinCECGTorso\n",
      "Score on training set 1.0\n",
      "Score on testing set 0.32318840579710145\n",
      "Coffee\n",
      "Score on training set 1.0\n",
      "Score on testing set 0.2857142857142857\n",
      "DiatomSizeReduction\n",
      "Score on training set 1.0\n",
      "Score on testing set 0.5915032679738562\n"
     ]
    }
   ],
   "source": [
    "for name in UNIVARIATE_DATASET_NAMES_2018:\n",
    "    print(name)\n",
    "    X_train, Y_train = reformat_data_train(name)\n",
    "    X_test, Y_test = reformat_data_test(name)\n",
    "    model = get_trained_autoencoder(X_train)\n",
    "    model1 = Model(inputs=model.inputs, outputs=model.layers[2].output)\n",
    "    knn = KNeighborsClassifier(n_neighbors = 1)\n",
    "    encoded_train = model1.predict(X_train)\n",
    "    encoded_test = model1.predict(X_test)\n",
    "    pd.DataFrame(encoded_train).to_csv(name + '_encoded_TRAIN.csv')\n",
    "    pd.DataFrame(encoded_test).to_csv(name + '_encoded_TEST.csv')\n",
    "    knn.fit(encoded_train, Y_train)\n",
    "    print('Score on training set', knn.score(encoded_train, Y_train))\n",
    "    print('Score on testing set', knn.score(encoded_test, Y_test))"
   ]
  }
 ],
 "metadata": {
  "kernelspec": {
   "display_name": "Python 3 (ipykernel)",
   "language": "python",
   "name": "python3"
  },
  "language_info": {
   "codemirror_mode": {
    "name": "ipython",
    "version": 3
   },
   "file_extension": ".py",
   "mimetype": "text/x-python",
   "name": "python",
   "nbconvert_exporter": "python",
   "pygments_lexer": "ipython3",
   "version": "3.9.7"
  }
 },
 "nbformat": 4,
 "nbformat_minor": 5
}
